{
 "cells": [
  {
   "cell_type": "markdown",
   "metadata": {},
   "source": [
    "#### Чтение csv-файла и вывод информации по нему"
   ]
  },
  {
   "cell_type": "code",
   "execution_count": 40,
   "metadata": {},
   "outputs": [],
   "source": [
    "import numpy as np\n",
    "import pandas as pd"
   ]
  },
  {
   "cell_type": "code",
   "execution_count": 41,
   "metadata": {},
   "outputs": [],
   "source": [
    "df = pd.read_csv(\"diabetes.csv\")"
   ]
  },
  {
   "cell_type": "code",
   "execution_count": 42,
   "metadata": {},
   "outputs": [
    {
     "name": "stdout",
     "output_type": "stream",
     "text": [
      "<class 'pandas.core.frame.DataFrame'>\n",
      "RangeIndex: 768 entries, 0 to 767\n",
      "Data columns (total 9 columns):\n",
      " #   Column                    Non-Null Count  Dtype  \n",
      "---  ------                    --------------  -----  \n",
      " 0   Pregnancies               768 non-null    int64  \n",
      " 1   Glucose                   768 non-null    int64  \n",
      " 2   BloodPressure             768 non-null    int64  \n",
      " 3   SkinThickness             768 non-null    int64  \n",
      " 4   Insulin                   768 non-null    int64  \n",
      " 5   BMI                       768 non-null    float64\n",
      " 6   DiabetesPedigreeFunction  768 non-null    float64\n",
      " 7   Age                       768 non-null    int64  \n",
      " 8   Outcome                   768 non-null    int64  \n",
      "dtypes: float64(2), int64(7)\n",
      "memory usage: 54.1 KB\n"
     ]
    }
   ],
   "source": [
    "df.info()"
   ]
  },
  {
   "cell_type": "markdown",
   "metadata": {},
   "source": [
    "#### Предварительная обработка датасета"
   ]
  },
  {
   "cell_type": "markdown",
   "metadata": {},
   "source": [
    "##### Вывод количества отсутствующих значений по каждой колонке датасета"
   ]
  },
  {
   "cell_type": "code",
   "execution_count": 43,
   "metadata": {},
   "outputs": [
    {
     "data": {
      "text/plain": [
       "Pregnancies                 0\n",
       "Glucose                     0\n",
       "BloodPressure               0\n",
       "SkinThickness               0\n",
       "Insulin                     0\n",
       "BMI                         0\n",
       "DiabetesPedigreeFunction    0\n",
       "Age                         0\n",
       "Outcome                     0\n",
       "dtype: int64"
      ]
     },
     "execution_count": 43,
     "metadata": {},
     "output_type": "execute_result"
    }
   ],
   "source": [
    "df.isna().sum()"
   ]
  },
  {
   "cell_type": "markdown",
   "metadata": {},
   "source": [
    "В датасете нет пустых значений, следовательно, обрабатывать нечего :)"
   ]
  },
  {
   "cell_type": "markdown",
   "metadata": {},
   "source": [
    "##### Поиск категориальных признаков"
   ]
  },
  {
   "cell_type": "code",
   "execution_count": 44,
   "metadata": {},
   "outputs": [
    {
     "data": {
      "text/plain": [
       "Pregnancies                   int64\n",
       "Glucose                       int64\n",
       "BloodPressure                 int64\n",
       "SkinThickness                 int64\n",
       "Insulin                       int64\n",
       "BMI                         float64\n",
       "DiabetesPedigreeFunction    float64\n",
       "Age                           int64\n",
       "Outcome                       int64\n",
       "dtype: object"
      ]
     },
     "execution_count": 44,
     "metadata": {},
     "output_type": "execute_result"
    }
   ],
   "source": [
    "df.dtypes"
   ]
  },
  {
   "cell_type": "markdown",
   "metadata": {},
   "source": [
    "В датасете нет категориальных признаков, следовательно, кодировать нечего :))"
   ]
  },
  {
   "cell_type": "markdown",
   "metadata": {},
   "source": [
    "##### Стандартизация"
   ]
  },
  {
   "cell_type": "code",
   "execution_count": 45,
   "metadata": {},
   "outputs": [
    {
     "data": {
      "text/html": [
       "<div>\n",
       "<style scoped>\n",
       "    .dataframe tbody tr th:only-of-type {\n",
       "        vertical-align: middle;\n",
       "    }\n",
       "\n",
       "    .dataframe tbody tr th {\n",
       "        vertical-align: top;\n",
       "    }\n",
       "\n",
       "    .dataframe thead th {\n",
       "        text-align: right;\n",
       "    }\n",
       "</style>\n",
       "<table border=\"1\" class=\"dataframe\">\n",
       "  <thead>\n",
       "    <tr style=\"text-align: right;\">\n",
       "      <th></th>\n",
       "      <th>Pregnancies</th>\n",
       "      <th>Glucose</th>\n",
       "      <th>BloodPressure</th>\n",
       "      <th>SkinThickness</th>\n",
       "      <th>Insulin</th>\n",
       "      <th>BMI</th>\n",
       "      <th>DiabetesPedigreeFunction</th>\n",
       "      <th>Age</th>\n",
       "      <th>Outcome</th>\n",
       "    </tr>\n",
       "  </thead>\n",
       "  <tbody>\n",
       "    <tr>\n",
       "      <th>0</th>\n",
       "      <td>0.639530</td>\n",
       "      <td>0.847771</td>\n",
       "      <td>0.149543</td>\n",
       "      <td>0.906679</td>\n",
       "      <td>-0.692439</td>\n",
       "      <td>0.203880</td>\n",
       "      <td>0.468187</td>\n",
       "      <td>1.425067</td>\n",
       "      <td>1</td>\n",
       "    </tr>\n",
       "    <tr>\n",
       "      <th>1</th>\n",
       "      <td>-0.844335</td>\n",
       "      <td>-1.122665</td>\n",
       "      <td>-0.160441</td>\n",
       "      <td>0.530556</td>\n",
       "      <td>-0.692439</td>\n",
       "      <td>-0.683976</td>\n",
       "      <td>-0.364823</td>\n",
       "      <td>-0.190548</td>\n",
       "      <td>0</td>\n",
       "    </tr>\n",
       "    <tr>\n",
       "      <th>2</th>\n",
       "      <td>1.233077</td>\n",
       "      <td>1.942458</td>\n",
       "      <td>-0.263769</td>\n",
       "      <td>-1.287373</td>\n",
       "      <td>-0.692439</td>\n",
       "      <td>-1.102537</td>\n",
       "      <td>0.604004</td>\n",
       "      <td>-0.105515</td>\n",
       "      <td>1</td>\n",
       "    </tr>\n",
       "    <tr>\n",
       "      <th>3</th>\n",
       "      <td>-0.844335</td>\n",
       "      <td>-0.997558</td>\n",
       "      <td>-0.160441</td>\n",
       "      <td>0.154433</td>\n",
       "      <td>0.123221</td>\n",
       "      <td>-0.493721</td>\n",
       "      <td>-0.920163</td>\n",
       "      <td>-1.040871</td>\n",
       "      <td>0</td>\n",
       "    </tr>\n",
       "    <tr>\n",
       "      <th>4</th>\n",
       "      <td>-1.141108</td>\n",
       "      <td>0.503727</td>\n",
       "      <td>-1.503707</td>\n",
       "      <td>0.906679</td>\n",
       "      <td>0.765337</td>\n",
       "      <td>1.408828</td>\n",
       "      <td>5.481337</td>\n",
       "      <td>-0.020483</td>\n",
       "      <td>1</td>\n",
       "    </tr>\n",
       "    <tr>\n",
       "      <th>...</th>\n",
       "      <td>...</td>\n",
       "      <td>...</td>\n",
       "      <td>...</td>\n",
       "      <td>...</td>\n",
       "      <td>...</td>\n",
       "      <td>...</td>\n",
       "      <td>...</td>\n",
       "      <td>...</td>\n",
       "      <td>...</td>\n",
       "    </tr>\n",
       "    <tr>\n",
       "      <th>763</th>\n",
       "      <td>1.826623</td>\n",
       "      <td>-0.622237</td>\n",
       "      <td>0.356200</td>\n",
       "      <td>1.721613</td>\n",
       "      <td>0.869464</td>\n",
       "      <td>0.115094</td>\n",
       "      <td>-0.908090</td>\n",
       "      <td>2.530487</td>\n",
       "      <td>0</td>\n",
       "    </tr>\n",
       "    <tr>\n",
       "      <th>764</th>\n",
       "      <td>-0.547562</td>\n",
       "      <td>0.034575</td>\n",
       "      <td>0.046215</td>\n",
       "      <td>0.405181</td>\n",
       "      <td>-0.692439</td>\n",
       "      <td>0.609757</td>\n",
       "      <td>-0.398023</td>\n",
       "      <td>-0.530677</td>\n",
       "      <td>0</td>\n",
       "    </tr>\n",
       "    <tr>\n",
       "      <th>765</th>\n",
       "      <td>0.342757</td>\n",
       "      <td>0.003299</td>\n",
       "      <td>0.149543</td>\n",
       "      <td>0.154433</td>\n",
       "      <td>0.279412</td>\n",
       "      <td>-0.734711</td>\n",
       "      <td>-0.684747</td>\n",
       "      <td>-0.275580</td>\n",
       "      <td>0</td>\n",
       "    </tr>\n",
       "    <tr>\n",
       "      <th>766</th>\n",
       "      <td>-0.844335</td>\n",
       "      <td>0.159683</td>\n",
       "      <td>-0.470426</td>\n",
       "      <td>-1.287373</td>\n",
       "      <td>-0.692439</td>\n",
       "      <td>-0.240048</td>\n",
       "      <td>-0.370859</td>\n",
       "      <td>1.169970</td>\n",
       "      <td>1</td>\n",
       "    </tr>\n",
       "    <tr>\n",
       "      <th>767</th>\n",
       "      <td>-0.844335</td>\n",
       "      <td>-0.872451</td>\n",
       "      <td>0.046215</td>\n",
       "      <td>0.655930</td>\n",
       "      <td>-0.692439</td>\n",
       "      <td>-0.201997</td>\n",
       "      <td>-0.473476</td>\n",
       "      <td>-0.870806</td>\n",
       "      <td>0</td>\n",
       "    </tr>\n",
       "  </tbody>\n",
       "</table>\n",
       "<p>768 rows × 9 columns</p>\n",
       "</div>"
      ],
      "text/plain": [
       "     Pregnancies   Glucose  BloodPressure  SkinThickness   Insulin       BMI  \\\n",
       "0       0.639530  0.847771       0.149543       0.906679 -0.692439  0.203880   \n",
       "1      -0.844335 -1.122665      -0.160441       0.530556 -0.692439 -0.683976   \n",
       "2       1.233077  1.942458      -0.263769      -1.287373 -0.692439 -1.102537   \n",
       "3      -0.844335 -0.997558      -0.160441       0.154433  0.123221 -0.493721   \n",
       "4      -1.141108  0.503727      -1.503707       0.906679  0.765337  1.408828   \n",
       "..           ...       ...            ...            ...       ...       ...   \n",
       "763     1.826623 -0.622237       0.356200       1.721613  0.869464  0.115094   \n",
       "764    -0.547562  0.034575       0.046215       0.405181 -0.692439  0.609757   \n",
       "765     0.342757  0.003299       0.149543       0.154433  0.279412 -0.734711   \n",
       "766    -0.844335  0.159683      -0.470426      -1.287373 -0.692439 -0.240048   \n",
       "767    -0.844335 -0.872451       0.046215       0.655930 -0.692439 -0.201997   \n",
       "\n",
       "     DiabetesPedigreeFunction       Age  Outcome  \n",
       "0                    0.468187  1.425067        1  \n",
       "1                   -0.364823 -0.190548        0  \n",
       "2                    0.604004 -0.105515        1  \n",
       "3                   -0.920163 -1.040871        0  \n",
       "4                    5.481337 -0.020483        1  \n",
       "..                        ...       ...      ...  \n",
       "763                 -0.908090  2.530487        0  \n",
       "764                 -0.398023 -0.530677        0  \n",
       "765                 -0.684747 -0.275580        0  \n",
       "766                 -0.370859  1.169970        1  \n",
       "767                 -0.473476 -0.870806        0  \n",
       "\n",
       "[768 rows x 9 columns]"
      ]
     },
     "execution_count": 45,
     "metadata": {},
     "output_type": "execute_result"
    }
   ],
   "source": [
    "for column in df:\n",
    "\tif column == \"Outcome\": continue\n",
    "\tcolumn_mean, column_std = df[column].mean(), df[column].std()\n",
    "\tdf[column] = (df[column] - column_mean) / column_std\n",
    "df"
   ]
  },
  {
   "cell_type": "markdown",
   "metadata": {},
   "source": [
    "##### Деление датасета на тренировочный и тестовый"
   ]
  },
  {
   "cell_type": "code",
   "execution_count": 46,
   "metadata": {},
   "outputs": [],
   "source": [
    "from sklearn.model_selection import train_test_split\n",
    "\n",
    "Y, X = df[\"Outcome\"], df.drop(columns=[\"Outcome\"])\n",
    "X_train, X_test, Y_train, Y_test = train_test_split(X, Y, test_size=0.3, random_state=0)"
   ]
  },
  {
   "cell_type": "markdown",
   "metadata": {},
   "source": [
    "#### Регрессия"
   ]
  },
  {
   "cell_type": "code",
   "execution_count": 47,
   "metadata": {},
   "outputs": [],
   "source": [
    "import warnings\n",
    "from sklearn.metrics import accuracy_score\n",
    "\n",
    "class CustomLogisticRegression():\n",
    "\tdef __init__(self, learning_rate=0.01, n_iter=250, method=\"g\"):\n",
    "\t\tself.weights = None\n",
    "\t\tself.bias = None\n",
    "\t\tself.train_accuracy = None\n",
    "\t\tself.loss = None\n",
    "\t\tself.learning_rate = learning_rate\n",
    "\t\tself.n_iter = n_iter\n",
    "\t\tself.method = method\n",
    "\t\n",
    "\tdef fit(self, X, Y):\n",
    "\t\tself.weights = np.zeros(X.shape[1])\n",
    "\t\tself.bias = 0\n",
    "\t\tfor _ in range(self.n_iter):\n",
    "\t\t\tweights = np.dot(self.weights, X.T) + self.bias\n",
    "\t\t\tpred = self._get_sigmoid(weights)\n",
    "\t\t\tmatch self.method:\n",
    "\t\t\t\tcase \"g\": error_weights, error_bias = self._calculate_gradients(X, Y, pred)\n",
    "\t\t\t\tcase \"n\": error_weights, error_bias = self._calculate_newton(X, Y, pred)\n",
    "\t\t\tself.weights = self.weights - self.learning_rate * error_weights\n",
    "\t\t\tself.bias = self.bias - self.learning_rate * error_bias\n",
    "\n",
    "\t\tpred_to_class = [1 if p > 0.5 else 0 for p in pred]\n",
    "\t\tself.train_accuracy = accuracy_score(Y, pred_to_class)\n",
    "\t\tself.loss = self._calculate_loss(Y, pred)\n",
    "\t\n",
    "\tdef predict(self, x):\n",
    "\t\tx_dot_weights = np.dot(x, self.weights.T) + self.bias\n",
    "\t\tprobabilities = self._get_sigmoid(x_dot_weights)\n",
    "\t\treturn [1 if p > 0.5 else 0 for p in probabilities]\n",
    "\t\n",
    "\tdef _calculate_loss(self, y_true, y_pred):\n",
    "\t\ty_zero_loss = y_true * np.log(y_pred + 1e-30)\n",
    "\t\ty_one_loss = (1-y_true) * np.log(1 - y_pred + 1e-30)\n",
    "\t\treturn -np.mean(y_zero_loss + y_one_loss)\n",
    "\t\n",
    "\tdef _get_sigmoid(self, x):\n",
    "\t\twarnings.simplefilter('ignore')\n",
    "\t\treturn 1 / (1 + np.exp(-x))\n",
    "\t\n",
    "\tdef _calculate_gradients(self, X, Y, pred):\n",
    "\t\tdifference = pred - Y\n",
    "\t\tgradients_weights = np.dot(X.T, difference)\n",
    "\t\tgradient_bias = np.mean(difference)\n",
    "\t\treturn gradients_weights, gradient_bias\n",
    "\t\n",
    "\tdef _calculate_newton(self, X, Y, pred):\n",
    "\t\tdifference = pred - Y\n",
    "\t\tgradient = np.dot(X.T, difference)\n",
    "\n",
    "\t\tW = np.array(pred * (1 - pred))\n",
    "\t\thessian = X.T @ W @ X.T\n",
    "\n",
    "\t\ttry:\n",
    "\t\t\tinv_hessian = np.linalg.inv(hessian)\n",
    "\t\t\terror_weights = np.dot(inv_hessian, gradient)\n",
    "\t\t\terror_bias = np.sum(difference)\n",
    "\t\texcept np.linalg.LinAlgError:  # Вырожденный гессиан\n",
    "\t\t\terror_weights = gradient\n",
    "\t\t\terror_bias = np.sum(difference)\n",
    "\n",
    "\t\treturn error_weights, error_bias"
   ]
  },
  {
   "cell_type": "markdown",
   "metadata": {},
   "source": [
    "#### Вывод оценок модели"
   ]
  },
  {
   "cell_type": "code",
   "execution_count": 66,
   "metadata": {},
   "outputs": [],
   "source": [
    "def get_confusion_matrix(Y_test, pred):\n",
    "\tconfusion_matrix = np.zeros((2, 2), dtype=int)\n",
    "\tfor index, value in enumerate(list(Y_test)):\n",
    "\t\tconfusion_matrix[value][pred[index]] += 1\n",
    "\treturn confusion_matrix"
   ]
  },
  {
   "cell_type": "code",
   "execution_count": 68,
   "metadata": {},
   "outputs": [],
   "source": [
    "def get_scores(Y_test, pred):\n",
    "\tconfusion_matrix = get_confusion_matrix(Y_test, pred)\n",
    "\tscores = dict()\n",
    "\taccuracy = sum([confusion_matrix[i][i] for i in range(len(confusion_matrix))]) / len(Y_test)\n",
    "\tfor i in range(len(confusion_matrix)):\n",
    "\t\tprecision = confusion_matrix[i][i] / sum(confusion_matrix[i])\n",
    "\t\trecall = confusion_matrix[i][i] / sum([confusion_matrix[j][i] for j in range(len(confusion_matrix))])\n",
    "\t\tf1_score = 2 * precision * recall / (precision + recall)\n",
    "\tscores['accuracy'], scores['precision'], scores['recall'], scores['f1_score'] = accuracy, precision, recall, f1_score\n",
    "\treturn scores"
   ]
  },
  {
   "cell_type": "code",
   "execution_count": 69,
   "metadata": {},
   "outputs": [
    {
     "name": "stdout",
     "output_type": "stream",
     "text": [
      "Метод градиентного спуска\n",
      "ACCURACY:\n",
      "           0.1      0.01     0.001\n",
      "10    0.722944  0.740260  0.740260\n",
      "100   0.718615  0.744589  0.740260\n",
      "1000  0.740260  0.783550  0.744589\n",
      "\n",
      "PRECISION:\n",
      "           0.1      0.01     0.001\n",
      "10    0.729730  0.783784  0.770270\n",
      "100   0.743243  0.729730  0.783784\n",
      "1000  0.621622  0.581081  0.729730\n",
      "\n",
      "RECALL:\n",
      "           0.1      0.01     0.001\n",
      "10    0.551020  0.568627  0.570000\n",
      "100   0.544554  0.580645  0.568627\n",
      "1000  0.589744  0.693548  0.580645\n",
      "\n",
      "F1_SCORE:\n",
      "           0.1      0.01     0.001\n",
      "10    0.627907  0.659091  0.655172\n",
      "100   0.628571  0.646707  0.659091\n",
      "1000  0.605263  0.632353  0.646707\n",
      "\n",
      "\n",
      "Метод оптимизации Ньютона\n",
      "ACCURACY:\n",
      "           0.1      0.01     0.001\n",
      "10    0.718615  0.779221  0.744589\n",
      "100   0.701299  0.779221  0.779221\n",
      "1000  0.701299  0.779221  0.779221\n",
      "\n",
      "PRECISION:\n",
      "           0.1      0.01     0.001\n",
      "10    0.648649  0.527027  0.513514\n",
      "100   0.540541  0.527027  0.527027\n",
      "1000  0.540541  0.527027  0.527027\n",
      "\n",
      "RECALL:\n",
      "           0.1      0.01     0.001\n",
      "10    0.551724  0.709091  0.622951\n",
      "100   0.533333  0.709091  0.709091\n",
      "1000  0.533333  0.709091  0.709091\n",
      "\n",
      "F1_SCORE:\n",
      "           0.1      0.01     0.001\n",
      "10    0.596273  0.604651  0.562963\n",
      "100   0.536913  0.604651  0.604651\n",
      "1000  0.536913  0.604651  0.604651\n",
      "\n",
      "\n"
     ]
    }
   ],
   "source": [
    "methods = ('g', 'n')\n",
    "n_iters = (10, 100, 1000)\n",
    "learning_rates = (0.1, 0.01, 0.001)\n",
    "\n",
    "for method in methods:\n",
    "\tprint(\"Метод\", \"градиентного спуска\" if method == \"g\" else \"оптимизации Ньютона\")\n",
    "\tdf_dict = dict()\n",
    "\tfor score in ('accuracy', 'precision', 'recall', 'f1_score'):\n",
    "\t\tdf_dict[score] = np.zeros((3, 3))\n",
    "\tfor i, n_iter in enumerate(n_iters):\n",
    "\t\tfor j, learning_rate in enumerate(learning_rates):\n",
    "\t\t\tlog = CustomLogisticRegression(n_iter=n_iter, learning_rate=learning_rate, method=method)\n",
    "\t\t\tlog.fit(X_train, Y_train)\n",
    "\t\t\tpred = log.predict(X_test)\n",
    "\t\t\tscores = get_scores(Y_test, pred)\n",
    "\t\t\tfor score, value in scores.items():\n",
    "\t\t\t\tdf_dict[score][i][j] = value\n",
    "\t\n",
    "\tfor key, df in df_dict.items():\n",
    "\t\tdf = pd.DataFrame(df, index=[str(iter) for iter in n_iters], columns=[str(rate) for rate in learning_rates])\n",
    "\t\tprint(f\"{key.upper()}:\")\n",
    "\t\tprint(df)\n",
    "\t\tprint()\n",
    "\tprint()"
   ]
  }
 ],
 "metadata": {
  "kernelspec": {
   "display_name": "Python 3",
   "language": "python",
   "name": "python3"
  },
  "language_info": {
   "codemirror_mode": {
    "name": "ipython",
    "version": 3
   },
   "file_extension": ".py",
   "mimetype": "text/x-python",
   "name": "python",
   "nbconvert_exporter": "python",
   "pygments_lexer": "ipython3",
   "version": "3.10.11"
  }
 },
 "nbformat": 4,
 "nbformat_minor": 2
}

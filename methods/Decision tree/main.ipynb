{
 "cells": [
  {
   "cell_type": "markdown",
   "metadata": {},
   "source": [
    "#### Импорт библиотек"
   ]
  },
  {
   "cell_type": "code",
   "execution_count": 1,
   "metadata": {},
   "outputs": [],
   "source": [
    "import numpy as np\n",
    "import pandas as pd"
   ]
  },
  {
   "cell_type": "markdown",
   "metadata": {},
   "source": [
    "#### Импорт датасета"
   ]
  },
  {
   "cell_type": "code",
   "execution_count": 2,
   "metadata": {},
   "outputs": [],
   "source": [
    "df = pd.read_csv(\"mushroom.csv\")"
   ]
  },
  {
   "cell_type": "code",
   "execution_count": 3,
   "metadata": {},
   "outputs": [
    {
     "data": {
      "text/html": [
       "<div>\n",
       "<style scoped>\n",
       "    .dataframe tbody tr th:only-of-type {\n",
       "        vertical-align: middle;\n",
       "    }\n",
       "\n",
       "    .dataframe tbody tr th {\n",
       "        vertical-align: top;\n",
       "    }\n",
       "\n",
       "    .dataframe thead th {\n",
       "        text-align: right;\n",
       "    }\n",
       "</style>\n",
       "<table border=\"1\" class=\"dataframe\">\n",
       "  <thead>\n",
       "    <tr style=\"text-align: right;\">\n",
       "      <th></th>\n",
       "      <th>poisonous</th>\n",
       "      <th>cap-shape</th>\n",
       "      <th>cap-surface</th>\n",
       "      <th>cap-color</th>\n",
       "      <th>bruises</th>\n",
       "      <th>odor</th>\n",
       "      <th>gill-attachment</th>\n",
       "      <th>gill-spacing</th>\n",
       "      <th>gill-size</th>\n",
       "      <th>gill-color</th>\n",
       "      <th>...</th>\n",
       "      <th>stalk-surface-below-ring</th>\n",
       "      <th>stalk-color-above-ring</th>\n",
       "      <th>stalk-color-below-ring</th>\n",
       "      <th>veil-type</th>\n",
       "      <th>veil-color</th>\n",
       "      <th>ring-number</th>\n",
       "      <th>ring-type</th>\n",
       "      <th>spore-print-color</th>\n",
       "      <th>population</th>\n",
       "      <th>habitat</th>\n",
       "    </tr>\n",
       "  </thead>\n",
       "  <tbody>\n",
       "    <tr>\n",
       "      <th>count</th>\n",
       "      <td>8124</td>\n",
       "      <td>8124</td>\n",
       "      <td>8124</td>\n",
       "      <td>8124</td>\n",
       "      <td>8124</td>\n",
       "      <td>8124</td>\n",
       "      <td>8124</td>\n",
       "      <td>8124</td>\n",
       "      <td>8124</td>\n",
       "      <td>8124</td>\n",
       "      <td>...</td>\n",
       "      <td>8124</td>\n",
       "      <td>8124</td>\n",
       "      <td>8124</td>\n",
       "      <td>8124</td>\n",
       "      <td>8124</td>\n",
       "      <td>8124</td>\n",
       "      <td>8124</td>\n",
       "      <td>8124</td>\n",
       "      <td>8124</td>\n",
       "      <td>8124</td>\n",
       "    </tr>\n",
       "    <tr>\n",
       "      <th>unique</th>\n",
       "      <td>2</td>\n",
       "      <td>6</td>\n",
       "      <td>4</td>\n",
       "      <td>10</td>\n",
       "      <td>2</td>\n",
       "      <td>9</td>\n",
       "      <td>2</td>\n",
       "      <td>2</td>\n",
       "      <td>2</td>\n",
       "      <td>12</td>\n",
       "      <td>...</td>\n",
       "      <td>4</td>\n",
       "      <td>9</td>\n",
       "      <td>9</td>\n",
       "      <td>1</td>\n",
       "      <td>4</td>\n",
       "      <td>3</td>\n",
       "      <td>5</td>\n",
       "      <td>9</td>\n",
       "      <td>6</td>\n",
       "      <td>7</td>\n",
       "    </tr>\n",
       "    <tr>\n",
       "      <th>top</th>\n",
       "      <td>e</td>\n",
       "      <td>x</td>\n",
       "      <td>y</td>\n",
       "      <td>n</td>\n",
       "      <td>f</td>\n",
       "      <td>n</td>\n",
       "      <td>f</td>\n",
       "      <td>c</td>\n",
       "      <td>b</td>\n",
       "      <td>b</td>\n",
       "      <td>...</td>\n",
       "      <td>s</td>\n",
       "      <td>w</td>\n",
       "      <td>w</td>\n",
       "      <td>p</td>\n",
       "      <td>w</td>\n",
       "      <td>o</td>\n",
       "      <td>p</td>\n",
       "      <td>w</td>\n",
       "      <td>v</td>\n",
       "      <td>d</td>\n",
       "    </tr>\n",
       "    <tr>\n",
       "      <th>freq</th>\n",
       "      <td>4208</td>\n",
       "      <td>3656</td>\n",
       "      <td>3244</td>\n",
       "      <td>2284</td>\n",
       "      <td>4748</td>\n",
       "      <td>3528</td>\n",
       "      <td>7914</td>\n",
       "      <td>6812</td>\n",
       "      <td>5612</td>\n",
       "      <td>1728</td>\n",
       "      <td>...</td>\n",
       "      <td>4936</td>\n",
       "      <td>4464</td>\n",
       "      <td>4384</td>\n",
       "      <td>8124</td>\n",
       "      <td>7924</td>\n",
       "      <td>7488</td>\n",
       "      <td>3968</td>\n",
       "      <td>2388</td>\n",
       "      <td>4040</td>\n",
       "      <td>3148</td>\n",
       "    </tr>\n",
       "  </tbody>\n",
       "</table>\n",
       "<p>4 rows × 23 columns</p>\n",
       "</div>"
      ],
      "text/plain": [
       "       poisonous cap-shape cap-surface cap-color bruises  odor  \\\n",
       "count       8124      8124        8124      8124    8124  8124   \n",
       "unique         2         6           4        10       2     9   \n",
       "top            e         x           y         n       f     n   \n",
       "freq        4208      3656        3244      2284    4748  3528   \n",
       "\n",
       "       gill-attachment gill-spacing gill-size gill-color  ...  \\\n",
       "count             8124         8124      8124       8124  ...   \n",
       "unique               2            2         2         12  ...   \n",
       "top                  f            c         b          b  ...   \n",
       "freq              7914         6812      5612       1728  ...   \n",
       "\n",
       "       stalk-surface-below-ring stalk-color-above-ring stalk-color-below-ring  \\\n",
       "count                      8124                   8124                   8124   \n",
       "unique                        4                      9                      9   \n",
       "top                           s                      w                      w   \n",
       "freq                       4936                   4464                   4384   \n",
       "\n",
       "       veil-type veil-color ring-number ring-type spore-print-color  \\\n",
       "count       8124       8124        8124      8124              8124   \n",
       "unique         1          4           3         5                 9   \n",
       "top            p          w           o         p                 w   \n",
       "freq        8124       7924        7488      3968              2388   \n",
       "\n",
       "       population habitat  \n",
       "count        8124    8124  \n",
       "unique          6       7  \n",
       "top             v       d  \n",
       "freq         4040    3148  \n",
       "\n",
       "[4 rows x 23 columns]"
      ]
     },
     "execution_count": 3,
     "metadata": {},
     "output_type": "execute_result"
    }
   ],
   "source": [
    "df.describe()"
   ]
  },
  {
   "cell_type": "markdown",
   "metadata": {},
   "source": [
    "#### Предварительная обработка данных"
   ]
  },
  {
   "cell_type": "markdown",
   "metadata": {},
   "source": [
    "В колонке `stalk-root` есть пропущенные значения. Посчитаем процент пропущенных значений"
   ]
  },
  {
   "cell_type": "code",
   "execution_count": 4,
   "metadata": {},
   "outputs": [
    {
     "data": {
      "text/plain": [
       "30.526834071885773"
      ]
     },
     "execution_count": 4,
     "metadata": {},
     "output_type": "execute_result"
    }
   ],
   "source": [
    "len(df.loc[df['stalk-root'] == \"?\"]) / len(df) * 100"
   ]
  },
  {
   "cell_type": "markdown",
   "metadata": {},
   "source": [
    "Удалим колонку из-за высокого процента пропущенных значений"
   ]
  },
  {
   "cell_type": "code",
   "execution_count": 5,
   "metadata": {},
   "outputs": [],
   "source": [
    "df = df.drop(columns='stalk-root')"
   ]
  },
  {
   "cell_type": "markdown",
   "metadata": {},
   "source": [
    "#### Создание дерева"
   ]
  },
  {
   "cell_type": "code",
   "execution_count": 6,
   "metadata": {},
   "outputs": [],
   "source": [
    "class Node():\n",
    "    def __init__(self, feature_index=None, feature_value=None, gainratio=None, value=None, is_root_node=False):\n",
    "        \n",
    "        # for decision node\n",
    "        self.feature_index = feature_index\n",
    "        self.feature_value = feature_value\n",
    "        self.children = []\n",
    "        self.gainratio = gainratio\n",
    "        self.is_root_node = is_root_node\n",
    "        \n",
    "        # for leaf node\n",
    "        self.value = value\n",
    "    \n",
    "    def is_leaf_node(self):\n",
    "        return self.value is not None\n",
    "    \n",
    "    def create_child(self, child):\n",
    "        return self.children.append(child)\n",
    "\n",
    "    def fit(self, X_test):\n",
    "        pred = pd.Series()\n",
    "        for i, row in X_test.iterrows():\n",
    "            pred[i] = self._fit_row(row)\n",
    "        return pred\n",
    "    \n",
    "    def _fit_row(self, X_test_row, parent=None):\n",
    "        if parent is None: parent = self\n",
    "        children = parent.children\n",
    "        try:\n",
    "            if children[0].is_leaf_node():\n",
    "                return children[0].value\n",
    "        except:\n",
    "            pass\n",
    "        for child in children:\n",
    "            if X_test_row[child.feature_index] == child.feature_value:\n",
    "                return self._fit_row(X_test_row, parent=child)\n",
    "        else:\n",
    "            return np.NaN\n",
    "\n",
    "    \n",
    "    def print_tree(self, depth=0):\n",
    "        if self.is_root_node:\n",
    "            print(\"Root\")\n",
    "        elif self.is_leaf_node():\n",
    "            print(depth * \"  \" + f\"poisonous = {self.value}\")\n",
    "        else:\n",
    "            print(depth * \"  \" + f\"{self.feature_index} = {self.feature_value}\")\n",
    "\n",
    "        if self.children:\n",
    "            depth += 1\n",
    "            for child in self.children:\n",
    "                child.print_tree(depth)"
   ]
  },
  {
   "cell_type": "markdown",
   "metadata": {},
   "source": [
    "#### Формулы с расчётом значений и созданием дерева решений"
   ]
  },
  {
   "cell_type": "code",
   "execution_count": 7,
   "metadata": {},
   "outputs": [],
   "source": [
    "# Split info + энтропия (если не вписывать атрибут column)\n",
    "def get_split_info(df, column=\"poisonous\"):\n",
    "\tinfo = 0\n",
    "\tcolumn_values = df[column].value_counts(normalize=True)\n",
    "\tfor value in column_values:\n",
    "\t\tinfo -= value * np.log2(value)\n",
    "\treturn info"
   ]
  },
  {
   "cell_type": "code",
   "execution_count": 8,
   "metadata": {},
   "outputs": [],
   "source": [
    "def get_infox(df, column):\n",
    "\tcolumn_values = df[column].value_counts(normalize=True)\n",
    "\tinfox = 0\n",
    "\tfor value, p in column_values.items():\n",
    "\t\tinfox += p * get_split_info(df.loc[df[column] == value])\n",
    "\treturn infox"
   ]
  },
  {
   "cell_type": "code",
   "execution_count": 9,
   "metadata": {},
   "outputs": [],
   "source": [
    "def get_gainratio(df, column):\n",
    "\tif get_split_info(df, column) == 0: return 1\n",
    "\treturn (get_split_info(df) - get_infox(df, column)) / get_split_info(df, column)"
   ]
  },
  {
   "cell_type": "code",
   "execution_count": 10,
   "metadata": {},
   "outputs": [],
   "source": [
    "def get_column_with_max_gainratio(df):\n",
    "\tfeature_index, max_gainratio = None, 0\n",
    "\tfor column in df:\n",
    "\t\tif column == \"poisonous\": continue\n",
    "\t\tgainratio = get_gainratio(df, column)\n",
    "\t\tif max_gainratio <= gainratio:\n",
    "\t\t\tfeature_index = column\n",
    "\t\t\tmax_gainratio = gainratio\n",
    "\treturn feature_index, max_gainratio"
   ]
  },
  {
   "cell_type": "code",
   "execution_count": 11,
   "metadata": {},
   "outputs": [],
   "source": [
    "def build_tree(df, parent=None):\n",
    "\troot = Node(is_root_node=True)\n",
    "\tif not parent:\n",
    "\t\tparent = root\n",
    "\tfeature_index, max_gainratio = get_column_with_max_gainratio(df)\n",
    "\tif max_gainratio == 0:\n",
    "\t\tchild = Node(value=list(set(df.poisonous))[0])\n",
    "\t\tparent.children.append(child)\n",
    "\telse:\n",
    "\t\tfor feature_value in set(df[feature_index]):\n",
    "\t\t\tchild = Node(feature_index=feature_index, feature_value=feature_value, gainratio=max_gainratio)\n",
    "\t\t\t\n",
    "\t\t\tsplit_info = get_split_info(df)\n",
    "\t\t\tif split_info == 0:\n",
    "\t\t\t\tchild = Node(value=list(set(df.poisonous))[0])\n",
    "\t\t\telse:\n",
    "\t\t\t\tnext_df = df.loc[df[feature_index] == feature_value].drop(columns=[feature_index])\n",
    "\t\t\t\tbuild_tree(next_df, parent=child)\n",
    "\t\t\tparent.children.append(child)\n",
    "\t\tif not parent.children:\n",
    "\t\t\tchild = Node(value=list(set(df.poisonous))[0])\n",
    "\t\t\tparent.children.append(child)\n",
    "\treturn root"
   ]
  },
  {
   "cell_type": "markdown",
   "metadata": {},
   "source": [
    "#### Рандомный выбор колонок из датасета"
   ]
  },
  {
   "cell_type": "code",
   "execution_count": 12,
   "metadata": {},
   "outputs": [
    {
     "name": "stdout",
     "output_type": "stream",
     "text": [
      "Выбранные колонки\n",
      "  1. stalk-color-above-ring\n",
      "  2. gill-color\n",
      "  3. ring-type\n",
      "  4. population\n",
      "  5. ring-number\n"
     ]
    }
   ],
   "source": [
    "import random\n",
    "from math import ceil, sqrt\n",
    "\n",
    "columns = list(df.drop(columns=[\"poisonous\"]).columns)\n",
    "number_of_columns = ceil(sqrt(len(list(df.columns))))\n",
    "picked_columns = random.sample(columns, number_of_columns)\n",
    "\n",
    "df = df[picked_columns].join(df.poisonous)\n",
    "\n",
    "print(\"Выбранные колонки\")\n",
    "for i, el in enumerate(picked_columns):\n",
    "\tprint(f\"  {i + 1}. {el}\")"
   ]
  },
  {
   "cell_type": "markdown",
   "metadata": {},
   "source": [
    "#### Построение дерева и предсказание на тестовой выборке"
   ]
  },
  {
   "cell_type": "code",
   "execution_count": 13,
   "metadata": {},
   "outputs": [
    {
     "name": "stdout",
     "output_type": "stream",
     "text": [
      "Root\n",
      "  ring-type = l\n",
      "    poisonous = p\n",
      "  ring-type = f\n",
      "    poisonous = e\n",
      "  ring-type = n\n",
      "    poisonous = p\n",
      "  ring-type = p\n",
      "    stalk-color-above-ring = g\n",
      "      poisonous = e\n",
      "    stalk-color-above-ring = n\n",
      "      poisonous = e\n",
      "    stalk-color-above-ring = p\n",
      "      poisonous = e\n",
      "    stalk-color-above-ring = o\n",
      "      poisonous = e\n",
      "    stalk-color-above-ring = w\n",
      "      population = y\n",
      "        poisonous = e\n",
      "      population = c\n",
      "        poisonous = p\n",
      "      population = s\n",
      "        ring-number = t\n",
      "          poisonous = e\n",
      "        ring-number = o\n",
      "          gill-color = g\n",
      "            poisonous = e\n",
      "          gill-color = h\n",
      "            poisonous = p\n",
      "          gill-color = n\n",
      "            poisonous = e\n",
      "          gill-color = p\n",
      "            poisonous = e\n",
      "          gill-color = u\n",
      "            poisonous = p\n",
      "          gill-color = k\n",
      "            poisonous = e\n",
      "          gill-color = w\n",
      "            poisonous = e\n",
      "      population = n\n",
      "        poisonous = e\n",
      "      population = v\n",
      "        ring-number = t\n",
      "          gill-color = w\n",
      "            poisonous = e\n",
      "          gill-color = r\n",
      "            poisonous = p\n",
      "          gill-color = g\n",
      "            poisonous = p\n",
      "        ring-number = o\n",
      "          gill-color = g\n",
      "            poisonous = e\n",
      "          gill-color = h\n",
      "            poisonous = p\n",
      "          gill-color = n\n",
      "            poisonous = e\n",
      "          gill-color = p\n",
      "            poisonous = e\n",
      "          gill-color = u\n",
      "            poisonous = e\n",
      "          gill-color = k\n",
      "            poisonous = e\n",
      "          gill-color = w\n",
      "            poisonous = e\n",
      "  ring-type = e\n",
      "    population = v\n",
      "      ring-number = o\n",
      "        gill-color = b\n",
      "          poisonous = p\n",
      "        gill-color = w\n",
      "          stalk-color-above-ring = w\n",
      "            poisonous = e\n",
      "    population = a\n",
      "      poisonous = e\n",
      "    population = c\n",
      "      ring-number = t\n",
      "        poisonous = e\n",
      "      ring-number = o\n",
      "        poisonous = p\n",
      "    population = s\n",
      "      poisonous = e\n"
     ]
    }
   ],
   "source": [
    "from sklearn.model_selection import train_test_split\n",
    "\n",
    "# for random_state in range(50):\n",
    "df_train, df_test = train_test_split(df, test_size=0.3)\n",
    "X_test, Y_test = df_test.drop(columns=[\"poisonous\"]), df_test.poisonous\n",
    "tree = build_tree(df_train)\n",
    "tree.print_tree()\n",
    "pred = tree.fit(X_test)"
   ]
  },
  {
   "cell_type": "markdown",
   "metadata": {},
   "source": [
    "#### Преобразование тестовых откликов и результатов предсказания из строковых значений в бинарные"
   ]
  },
  {
   "cell_type": "code",
   "execution_count": 14,
   "metadata": {},
   "outputs": [],
   "source": [
    "for index, value in Y_test.items():\n",
    "\tY_test[index], pred[index] = 1 if value == \"e\" else 0, 1 if pred[index] == \"e\" else 0"
   ]
  },
  {
   "cell_type": "markdown",
   "metadata": {},
   "source": [
    "#### Оценка предсказаний"
   ]
  },
  {
   "cell_type": "code",
   "execution_count": 15,
   "metadata": {},
   "outputs": [],
   "source": [
    "def get_confusion_matrix(Y_test, pred):\n",
    "\tconfusion_matrix = np.zeros((2, 2), dtype=int)\n",
    "\tfor index, value in Y_test.items():\n",
    "\t\tconfusion_matrix[value - 1][pred[index] - 1] += 1\n",
    "\treturn confusion_matrix\n",
    "\n",
    "def print_statistics(Y_test, pred):\n",
    "\tconfusion_matrix = get_confusion_matrix(Y_test, pred)\n",
    "\tTN, FP, FN, TP = confusion_matrix.ravel()\n",
    "\tprint(\"Матрица ошибок:\")\n",
    "\tfor el in confusion_matrix:\n",
    "\t\tprint(f\"  {el}\")\n",
    "\tprint(\"\\nОценки:\")\n",
    "\tprint(\"  Accuracy:\", (TP + TN) / (TP + TN + FP + FN))\n",
    "\tprint(\"  Precision:\", TP / (TP + FP))\n",
    "\tprint(\"  Recall:\", TP / (TP + FN))"
   ]
  },
  {
   "cell_type": "code",
   "execution_count": 16,
   "metadata": {},
   "outputs": [
    {
     "name": "stdout",
     "output_type": "stream",
     "text": [
      "Матрица ошибок:\n",
      "  [1237    0]\n",
      "  [214 987]\n",
      "\n",
      "Оценки:\n",
      "  Accuracy: 0.9122231337161608\n",
      "  Precision: 1.0\n",
      "  Recall: 0.8218151540383014\n"
     ]
    }
   ],
   "source": [
    "print_statistics(Y_test, pred)"
   ]
  },
  {
   "cell_type": "markdown",
   "metadata": {},
   "source": [
    "#### AUC-ROC и AUC-PR кривая"
   ]
  },
  {
   "cell_type": "code",
   "execution_count": 20,
   "metadata": {},
   "outputs": [],
   "source": [
    "def calculate_roc_curve(y_true, pred):\n",
    "    df = pd.DataFrame({'y_true': y_true, 'pred': pred})\n",
    "    df = df.sort_values(by='pred', ascending=False)\n",
    "\n",
    "    tpr_list, fpr_list = [], []\n",
    "    total_positive = sum(y_true)\n",
    "    total_negative = len(y_true) - total_positive\n",
    "\n",
    "    for threshold in [i / 100 for i in range(0, 101, 5)]:\n",
    "        predicted_positive = df['y_true'][df['pred'] >= threshold].sum()\n",
    "        tpr = predicted_positive / total_positive\n",
    "        fpr = (df['y_true'][df['pred'] >= threshold] == 0).sum() / total_negative\n",
    "        tpr_list.append(tpr)\n",
    "        fpr_list.append(fpr)\n",
    "    \n",
    "    fpr_list.append(0)\n",
    "    tpr_list.append(0)\n",
    "\n",
    "    return fpr_list, tpr_list\n",
    "\n",
    "fpr, tpr = calculate_roc_curve(Y_test, pred)"
   ]
  },
  {
   "cell_type": "code",
   "execution_count": 21,
   "metadata": {},
   "outputs": [
    {
     "data": {
      "image/png": "[encoded data removed]",
      "text/plain": [
       "<Figure size 640x480 with 1 Axes>"
      ]
     },
     "metadata": {},
     "output_type": "display_data"
    }
   ],
   "source": [
    "import matplotlib.pyplot as plt\n",
    "\n",
    "plt.plot(fpr, tpr, label='ROC curve')\n",
    "plt.plot([0, 1], [0, 1], linestyle='--', color='gray', label='Random')\n",
    "plt.xlabel('False Positive Rate (FPR)')\n",
    "plt.ylabel('True Positive Rate (TPR)')\n",
    "plt.title('ROC Curve')\n",
    "plt.legend()\n",
    "plt.show()"
   ]
  },
  {
   "cell_type": "code",
   "execution_count": 20,
   "metadata": {},
   "outputs": [],
   "source": [
    "def calculate_precision_recall_curve(y_true, pred):\n",
    "\n",
    "    df = pd.DataFrame({'y_true': y_true, 'pred': pred})\n",
    "    df = df.sort_values(by='pred', ascending=False)\n",
    "    y_true_sorted = df[\"y_true\"]\n",
    "    \n",
    "    true_positives, false_positives, false_negatives = 0, 0, 0\n",
    "    precision_values = []\n",
    "    recall_values = []\n",
    "\n",
    "    for _, el in y_true_sorted.items():\n",
    "        if el == 1:\n",
    "            true_positives += 1\n",
    "        else:\n",
    "            false_positives += 1\n",
    "        false_negatives = np.sum(y_true_sorted == 1) - true_positives\n",
    "        \n",
    "        precision = true_positives / (true_positives + false_positives) if (true_positives + false_positives) != 0 else 0\n",
    "        recall = true_positives / (true_positives + false_negatives) if (true_positives + false_negatives) != 0 else 0\n",
    "\n",
    "        precision_values.append(precision)\n",
    "        recall_values.append(recall)\n",
    "\n",
    "    return np.array(precision_values), np.array(recall_values)\n",
    "\n",
    "precision, recall = calculate_precision_recall_curve(Y_test, pred)"
   ]
  },
  {
   "cell_type": "code",
   "execution_count": 21,
   "metadata": {},
   "outputs": [
    {
     "data": {
      "image/png": "[encoded data removed]",
      "text/plain": [
       "<Figure size 640x480 with 1 Axes>"
      ]
     },
     "metadata": {},
     "output_type": "display_data"
    }
   ],
   "source": [
    "plt.plot(recall, precision, label='PR curve')\n",
    "plt.plot([0, 1], [0, 1], linestyle='--', color='gray', label='Random')\n",
    "plt.xlabel('False Positive Rate (FPR)')\n",
    "plt.ylabel('True Positive Rate (TPR)')\n",
    "plt.title('PR Curve')\n",
    "plt.legend()\n",
    "plt.show()"
   ]
  }
 ],
 "metadata": {
  "kernelspec": {
   "display_name": "Python 3",
   "language": "python",
   "name": "python3"
  },
  "language_info": {
   "codemirror_mode": {
    "name": "ipython",
    "version": 3
   },
   "file_extension": ".py",
   "mimetype": "text/x-python",
   "name": "python",
   "nbconvert_exporter": "python",
   "pygments_lexer": "ipython3",
   "version": "3.10.11"
  }
 },
 "nbformat": 4,
 "nbformat_minor": 2
}
